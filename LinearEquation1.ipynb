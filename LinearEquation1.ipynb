{
  "nbformat": 4,
  "nbformat_minor": 0,
  "metadata": {
    "colab": {
      "name": "LinearEquation1.ipynb",
      "version": "0.3.2",
      "provenance": [],
      "include_colab_link": true
    },
    "kernelspec": {
      "name": "python3",
      "display_name": "Python 3"
    },
    "accelerator": "GPU"
  },
  "cells": [
    {
      "cell_type": "markdown",
      "metadata": {
        "id": "view-in-github",
        "colab_type": "text"
      },
      "source": [
        "<a href=\"https://colab.research.google.com/github/AshuKV/hello-world/blob/master/LinearEquation1.ipynb\" target=\"_parent\"><img src=\"https://colab.research.google.com/assets/colab-badge.svg\" alt=\"Open In Colab\"/></a>"
      ]
    },
    {
      "cell_type": "code",
      "metadata": {
        "id": "yF6_wsVp6mDS",
        "colab_type": "code",
        "colab": {}
      },
      "source": [
        "import tensorflow as tf"
      ],
      "execution_count": 0,
      "outputs": []
    },
    {
      "cell_type": "code",
      "metadata": {
        "id": "UyflL3qp9ZD1",
        "colab_type": "code",
        "colab": {}
      },
      "source": [
        "from __future__ import absolute_import,division,print_function"
      ],
      "execution_count": 0,
      "outputs": []
    },
    {
      "cell_type": "markdown",
      "metadata": {
        "id": "FVnF7bOV9RvP",
        "colab_type": "text"
      },
      "source": [
        "tf.enable_eager_execution()\n"
      ]
    },
    {
      "cell_type": "markdown",
      "metadata": {
        "id": "zx0KOcOl8Awf",
        "colab_type": "text"
      },
      "source": [
        ""
      ]
    },
    {
      "cell_type": "code",
      "metadata": {
        "id": "6Sc8rTy99Eth",
        "colab_type": "code",
        "colab": {}
      },
      "source": [
        "import numpy as np \n",
        "import tensorflow as tf \n",
        "import matplotlib.pyplot as plt "
      ],
      "execution_count": 0,
      "outputs": []
    },
    {
      "cell_type": "code",
      "metadata": {
        "id": "heXK1w-0-7JX",
        "colab_type": "code",
        "colab": {}
      },
      "source": [
        "x=np.array([1,2,3,4,5],dtype=float)\n",
        "y=np.array([7,9,11,13,15],dtype=float)\n"
      ],
      "execution_count": 0,
      "outputs": []
    },
    {
      "cell_type": "markdown",
      "metadata": {
        "id": "BPAWfWfAJFaW",
        "colab_type": "text"
      },
      "source": [
        ""
      ]
    },
    {
      "cell_type": "code",
      "metadata": {
        "id": "WxK-XqmXBDMo",
        "colab_type": "code",
        "colab": {}
      },
      "source": [
        "n=5"
      ],
      "execution_count": 0,
      "outputs": []
    },
    {
      "cell_type": "code",
      "metadata": {
        "id": "1GDQq0PP_R5r",
        "colab_type": "code",
        "colab": {
          "base_uri": "https://localhost:8080/",
          "height": 295
        },
        "outputId": "790bf782-1563-4015-af7d-ecb0c4c08b0b"
      },
      "source": [
        "plt.scatter(x,y)\n",
        "plt.xlabel('x')\n",
        "plt.ylabel('y')\n",
        "plt.title('Data')\n",
        "plt.show()"
      ],
      "execution_count": 100,
      "outputs": [
        {
          "output_type": "display_data",
          "data": {
            "image/png": "[encoded data removed]",
            "text/plain": [
              "<Figure size 432x288 with 1 Axes>"
            ]
          },
          "metadata": {
            "tags": []
          }
        }
      ]
    },
    {
      "cell_type": "code",
      "metadata": {
        "id": "73BdzDD3_sZU",
        "colab_type": "code",
        "colab": {}
      },
      "source": [
        "\n",
        "X = tf.placeholder(\"float\") \n",
        "Y = tf.placeholder(\"float\") "
      ],
      "execution_count": 0,
      "outputs": []
    },
    {
      "cell_type": "code",
      "metadata": {
        "id": "7EL3Hffq_-od",
        "colab_type": "code",
        "colab": {
          "base_uri": "https://localhost:8080/",
          "height": 50
        },
        "outputId": "6952f291-086a-4802-e353-6050874b9057"
      },
      "source": [
        "\n",
        "W = tf.Variable(np.random.randn(), name = \"W\") \n",
        "b = tf.Variable(np.random.randn(), name = \"b\")\n",
        "print(W)\n",
        "print(b)"
      ],
      "execution_count": 102,
      "outputs": [
        {
          "output_type": "stream",
          "text": [
            "<tf.Variable 'W_8:0' shape=() dtype=float32_ref>\n",
            "<tf.Variable 'b_8:0' shape=() dtype=float32_ref>\n"
          ],
          "name": "stdout"
        }
      ]
    },
    {
      "cell_type": "code",
      "metadata": {
        "id": "5d1U4W1NADNi",
        "colab_type": "code",
        "colab": {}
      },
      "source": [
        "\n",
        "learning_rate = 0.1\n",
        "training_epochs = 5000"
      ],
      "execution_count": 0,
      "outputs": []
    },
    {
      "cell_type": "code",
      "metadata": {
        "id": "WXsP8NDhAGyw",
        "colab_type": "code",
        "colab": {}
      },
      "source": [
        "y_pred = tf.add(tf.multiply(X, W), b) \n",
        "cost = tf.reduce_sum(tf.pow(y_pred-Y, 2)) / (2 * n) \n",
        "optimizer = tf.train.GradientDescentOptimizer(learning_rate).minimize(cost) \n",
        "init = tf.global_variables_initializer()"
      ],
      "execution_count": 0,
      "outputs": []
    },
    {
      "cell_type": "code",
      "metadata": {
        "id": "Z9DSwLD8AV9n",
        "colab_type": "code",
        "colab": {
          "base_uri": "https://localhost:8080/",
          "height": 857
        },
        "outputId": "dd715f9e-be7b-4ec4-e055-db2993198e6f"
      },
      "source": [
        "with tf.Session() as sess: \n",
        "      \n",
        "    sess.run(init) \n",
        "    for epoch in range(training_epochs):  \n",
        "        for (_x, _y) in zip(x, y): \n",
        "            sess.run(optimizer, feed_dict = {X : _x, Y : _y}) \n",
        "          \n",
        "        if (epoch + 1) % 100 == 0: \n",
        "            c = sess.run(cost, feed_dict = {X : x, Y : y}) \n",
        "            print(\"Epoch\", (epoch + 1), \": cost =\", c, \"W =\", sess.run(W), \"b =\", sess.run(b)) \n",
        "    training_cost = sess.run(cost, feed_dict ={X: x, Y: y}) \n",
        "    weight = sess.run(W) \n",
        "    bias = sess.run(b) "
      ],
      "execution_count": 105,
      "outputs": [
        {
          "output_type": "stream",
          "text": [
            "Epoch 100 : cost = 0.010964088 W = 2.0787354 b = 4.666174\n",
            "Epoch 200 : cost = 0.000296807 W = 2.0129542 b = 4.9450755\n",
            "Epoch 300 : cost = 8.031182e-06 W = 2.002131 b = 4.990965\n",
            "Epoch 400 : cost = 2.1704118e-07 W = 2.0003502 b = 4.9985147\n",
            "Epoch 500 : cost = 5.897982e-09 W = 2.0000577 b = 4.9997554\n",
            "Epoch 600 : cost = 1.8781066e-10 W = 2.0000103 b = 4.9999566\n",
            "Epoch 700 : cost = 2.2942004e-11 W = 2.0000038 b = 4.9999843\n",
            "Epoch 800 : cost = 2.2942004e-11 W = 2.0000038 b = 4.9999843\n",
            "Epoch 900 : cost = 2.2942004e-11 W = 2.0000038 b = 4.9999843\n",
            "Epoch 1000 : cost = 2.2942004e-11 W = 2.0000038 b = 4.9999843\n",
            "Epoch 1100 : cost = 2.2942004e-11 W = 2.0000038 b = 4.9999843\n",
            "Epoch 1200 : cost = 2.2942004e-11 W = 2.0000038 b = 4.9999843\n",
            "Epoch 1300 : cost = 2.2942004e-11 W = 2.0000038 b = 4.9999843\n",
            "Epoch 1400 : cost = 2.2942004e-11 W = 2.0000038 b = 4.9999843\n",
            "Epoch 1500 : cost = 2.2942004e-11 W = 2.0000038 b = 4.9999843\n",
            "Epoch 1600 : cost = 2.2942004e-11 W = 2.0000038 b = 4.9999843\n",
            "Epoch 1700 : cost = 2.2942004e-11 W = 2.0000038 b = 4.9999843\n",
            "Epoch 1800 : cost = 2.2942004e-11 W = 2.0000038 b = 4.9999843\n",
            "Epoch 1900 : cost = 2.2942004e-11 W = 2.0000038 b = 4.9999843\n",
            "Epoch 2000 : cost = 2.2942004e-11 W = 2.0000038 b = 4.9999843\n",
            "Epoch 2100 : cost = 2.2942004e-11 W = 2.0000038 b = 4.9999843\n",
            "Epoch 2200 : cost = 2.2942004e-11 W = 2.0000038 b = 4.9999843\n",
            "Epoch 2300 : cost = 2.2942004e-11 W = 2.0000038 b = 4.9999843\n",
            "Epoch 2400 : cost = 2.2942004e-11 W = 2.0000038 b = 4.9999843\n",
            "Epoch 2500 : cost = 2.2942004e-11 W = 2.0000038 b = 4.9999843\n",
            "Epoch 2600 : cost = 2.2942004e-11 W = 2.0000038 b = 4.9999843\n",
            "Epoch 2700 : cost = 2.2942004e-11 W = 2.0000038 b = 4.9999843\n",
            "Epoch 2800 : cost = 2.2942004e-11 W = 2.0000038 b = 4.9999843\n",
            "Epoch 2900 : cost = 2.2942004e-11 W = 2.0000038 b = 4.9999843\n",
            "Epoch 3000 : cost = 2.2942004e-11 W = 2.0000038 b = 4.9999843\n",
            "Epoch 3100 : cost = 2.2942004e-11 W = 2.0000038 b = 4.9999843\n",
            "Epoch 3200 : cost = 2.2942004e-11 W = 2.0000038 b = 4.9999843\n",
            "Epoch 3300 : cost = 2.2942004e-11 W = 2.0000038 b = 4.9999843\n",
            "Epoch 3400 : cost = 2.2942004e-11 W = 2.0000038 b = 4.9999843\n",
            "Epoch 3500 : cost = 2.2942004e-11 W = 2.0000038 b = 4.9999843\n",
            "Epoch 3600 : cost = 2.2942004e-11 W = 2.0000038 b = 4.9999843\n",
            "Epoch 3700 : cost = 2.2942004e-11 W = 2.0000038 b = 4.9999843\n",
            "Epoch 3800 : cost = 2.2942004e-11 W = 2.0000038 b = 4.9999843\n",
            "Epoch 3900 : cost = 2.2942004e-11 W = 2.0000038 b = 4.9999843\n",
            "Epoch 4000 : cost = 2.2942004e-11 W = 2.0000038 b = 4.9999843\n",
            "Epoch 4100 : cost = 2.2942004e-11 W = 2.0000038 b = 4.9999843\n",
            "Epoch 4200 : cost = 2.2942004e-11 W = 2.0000038 b = 4.9999843\n",
            "Epoch 4300 : cost = 2.2942004e-11 W = 2.0000038 b = 4.9999843\n",
            "Epoch 4400 : cost = 2.2942004e-11 W = 2.0000038 b = 4.9999843\n",
            "Epoch 4500 : cost = 2.2942004e-11 W = 2.0000038 b = 4.9999843\n",
            "Epoch 4600 : cost = 2.2942004e-11 W = 2.0000038 b = 4.9999843\n",
            "Epoch 4700 : cost = 2.2942004e-11 W = 2.0000038 b = 4.9999843\n",
            "Epoch 4800 : cost = 2.2942004e-11 W = 2.0000038 b = 4.9999843\n",
            "Epoch 4900 : cost = 2.2942004e-11 W = 2.0000038 b = 4.9999843\n",
            "Epoch 5000 : cost = 2.2942004e-11 W = 2.0000038 b = 4.9999843\n"
          ],
          "name": "stdout"
        }
      ]
    },
    {
      "cell_type": "code",
      "metadata": {
        "id": "wh4DveHUBvzx",
        "colab_type": "code",
        "colab": {
          "base_uri": "https://localhost:8080/",
          "height": 34
        },
        "outputId": "b43c05e1-4c68-4948-ef48-c67857670e7e"
      },
      "source": [
        "\n",
        "predictions = weight * x + bias \n",
        "print(\"Ccost =\", training_cost, \"Weight =\", weight, \"bias =\", bias) "
      ],
      "execution_count": 106,
      "outputs": [
        {
          "output_type": "stream",
          "text": [
            "Ccost = 2.2942004e-11 Weight = 2.0000038 bias = 4.9999843\n"
          ],
          "name": "stdout"
        }
      ]
    },
    {
      "cell_type": "code",
      "metadata": {
        "id": "b3qBfCyvCLc1",
        "colab_type": "code",
        "colab": {
          "base_uri": "https://localhost:8080/",
          "height": 281
        },
        "outputId": "be10e2e2-a675-43c4-cbe0-b268260d0b14"
      },
      "source": [
        "\n",
        "# Plotting the Results \n",
        "plt.plot(x, y,'bD', label ='Original') \n",
        "plt.plot(x, predictions, label ='line') \n",
        "plt.title('Result') \n",
        "plt.legend() \n",
        "plt.show() \n"
      ],
      "execution_count": 110,
      "outputs": [
        {
          "output_type": "display_data",
          "data": {
            "image/png": "[encoded data removed]",
            "text/plain": [
              "<Figure size 432x288 with 1 Axes>"
            ]
          },
          "metadata": {
            "tags": []
          }
        }
      ]
    },
    {
      "cell_type": "markdown",
      "metadata": {
        "id": "m6rfunDZJO-P",
        "colab_type": "text"
      },
      "source": [
        ""
      ]
    },
    {
      "cell_type": "markdown",
      "metadata": {
        "id": "_bi_qsOQD37o",
        "colab_type": "text"
      },
      "source": [
        ""
      ]
    }
  ]
}